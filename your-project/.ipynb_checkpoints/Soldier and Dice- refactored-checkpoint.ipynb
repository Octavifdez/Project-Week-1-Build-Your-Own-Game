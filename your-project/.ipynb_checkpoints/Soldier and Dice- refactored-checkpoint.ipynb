{
 "cells": [
  {
   "cell_type": "markdown",
   "metadata": {},
   "source": [
    "<img src=\"91s9x1RHbtL._SL1500_.jpg\">"
   ]
  },
  {
   "cell_type": "markdown",
   "metadata": {},
   "source": [
    "#### Function to roll dice"
   ]
  },
  {
   "cell_type": "code",
   "execution_count": 1,
   "metadata": {},
   "outputs": [],
   "source": [
    "import random\n",
    "def rolldice():\n",
    "    return random.randint(1,6)"
   ]
  },
  {
   "cell_type": "markdown",
   "metadata": {},
   "source": [
    "#### Yes or no function"
   ]
  },
  {
   "cell_type": "code",
   "execution_count": 17,
   "metadata": {},
   "outputs": [],
   "source": [
    "def yes_or_no(question):\n",
    "    reply = str(input(question+' (y/n): ')).lower().strip()\n",
    "    if reply[0] == 'y':\n",
    "        return True\n",
    "    if reply[0] == 'n':\n",
    "        return False\n",
    "    else:\n",
    "        return yes_or_no(\"Uhhhh... please enter \")"
   ]
  },
  {
   "cell_type": "markdown",
   "metadata": {},
   "source": [
    "#### Functions to create both pool of dice"
   ]
  },
  {
   "cell_type": "code",
   "execution_count": 2,
   "metadata": {},
   "outputs": [],
   "source": [
    "def dice_roll(pool):\n",
    "    pool_dice = []\n",
    "    for dice in range(pool):\n",
    "        pool_dice.append(rolldice())\n",
    "    return pool_dice"
   ]
  },
  {
   "cell_type": "code",
   "execution_count": 3,
   "metadata": {},
   "outputs": [],
   "source": [
    "def pooling(dice_a, dice_d) :\n",
    "    if dice_a > 3: # Attacker can only field 3 soldiers\n",
    "        pool_a = dice_roll(3)\n",
    "    else:\n",
    "        pool_a = dice_roll(dice_a - 1) # Attacker has to leave one soldier on the land he comes from\n",
    "    pool_a.sort(reverse=True)\n",
    "    \n",
    "    if dice_d > 2: # Defender can only field 2 defenders\n",
    "        pool_d = dice_roll(2)\n",
    "    else:\n",
    "        pool_d = dice_roll(defend)\n",
    "    pool_d.sort(reverse=True)\n",
    "    \n",
    "    return pool_a, pool_d\n",
    "\n",
    "# Both pools have been sorted and reversed as we have to compare from the highest scores."
   ]
  },
  {
   "cell_type": "markdown",
   "metadata": {},
   "source": [
    "#### Function to compare dice rolls and update the scores"
   ]
  },
  {
   "cell_type": "code",
   "execution_count": 4,
   "metadata": {},
   "outputs": [],
   "source": [
    "def compare_pool(pool_a, pool_d, attack, defend):\n",
    "    for i in range(min(len(pool_a), len(pool_d))):\n",
    "        if pool_a[i] > pool_d[i]:\n",
    "            defend += -1 # Attacker wins\n",
    "        else:\n",
    "            attack += -1 # Defender wins\n",
    "    return (attack, defend)"
   ]
  },
  {
   "cell_type": "markdown",
   "metadata": {},
   "source": [
    "#### Setup the armies"
   ]
  },
  {
   "cell_type": "code",
   "execution_count": 5,
   "metadata": {
    "scrolled": true
   },
   "outputs": [],
   "source": [
    "def setup_armies():\n",
    "    attack = input('How many soldiers are in the attacking land? ')\n",
    "    while not attack.isdigit(): # checking for right input\n",
    "        attack = input('How many soldiers are in the attacking land? ')\n",
    "    defend = input('How many soldiers are defending the land? ')\n",
    "    while not defend.isdigit(): # checking for right input\n",
    "        defend = input('How many soldiers are defending the land? ')\n",
    "    attack = int(attack)\n",
    "    defend = int(defend)\n",
    "    return attack, defend"
   ]
  },
  {
   "cell_type": "markdown",
   "metadata": {},
   "source": [
    "#### Fight round"
   ]
  },
  {
   "cell_type": "code",
   "execution_count": 15,
   "metadata": {},
   "outputs": [],
   "source": [
    "def fight(attack, defend):\n",
    "    charge = True\n",
    "    while charge:\n",
    "        if attack > 1 and defend > 0:\n",
    "            pool_attack, pool_defend = pooling(attack,defend)\n",
    "            (attack, defend) = compare_pool(pool_attack, pool_defend, attack, defend)\n",
    "        elif attack <= 1: # Attacker has to leave one soldier in the land he attacks from\n",
    "            print('You have no more troops to attack.')\n",
    "            charge = False\n",
    "        else:\n",
    "            print('You have conquered the land!')\n",
    "            charge = False\n",
    "        if attack > 1 and defend > 0: # Checking for a new round. 'y' will work, any other letter will quit the game.\n",
    "            charge = yes_or_no('You can try attacking again with {0} against {1} defenders.'.format(attack, defend))"
   ]
  },
  {
   "cell_type": "markdown",
   "metadata": {},
   "source": [
    "## Time to fight"
   ]
  },
  {
   "cell_type": "code",
   "execution_count": null,
   "metadata": {},
   "outputs": [
    {
     "name": "stdout",
     "output_type": "stream",
     "text": [
      "How many soldiers are in the attacking land? 8\n",
      "How many soldiers are defending the land? 6\n",
      "You can try attacking again with 8 against 4 defenders. (y/n): y\n",
      "You can try attacking again with 8 against 2 defenders. (y/n): y\n",
      "You can try attacking again with 6 against 1 defenders. (y/n): y\n",
      "You have conquered the land!\n",
      "Do you want to play again? (y/n): y\n",
      "How many soldiers are in the attacking land? 9\n",
      "How many soldiers are defending the land? 6\n",
      "You can try attacking again with 8 against 5 defenders. (y/n): y\n",
      "You can try attacking again with 8 against 3 defenders. (y/n): y\n",
      "You can try attacking again with 6 against 3 defenders. (y/n): y\n",
      "You can try attacking again with 5 against 2 defenders. (y/n): y\n",
      "You can try attacking again with 2 against 2 defenders. (y/n): y\n",
      "You have no more troops to attack.\n",
      "Do you want to play again? (y/n): y\n"
     ]
    }
   ],
   "source": [
    "if __name__ == '__main__':\n",
    "    # Setup:\n",
    "    play = True\n",
    "    while play:\n",
    "        attack, defend = setup_armies()\n",
    "        fight(attack, defend)\n",
    "        play = yes_or_no('Do you want to play again?')\n",
    "\n",
    "# Added the option to play indefinitely"
   ]
  }
 ],
 "metadata": {
  "kernelspec": {
   "display_name": "Python 3",
   "language": "python",
   "name": "python3"
  },
  "language_info": {
   "codemirror_mode": {
    "name": "ipython",
    "version": 3
   },
   "file_extension": ".py",
   "mimetype": "text/x-python",
   "name": "python",
   "nbconvert_exporter": "python",
   "pygments_lexer": "ipython3",
   "version": "3.7.4"
  }
 },
 "nbformat": 4,
 "nbformat_minor": 2
}
