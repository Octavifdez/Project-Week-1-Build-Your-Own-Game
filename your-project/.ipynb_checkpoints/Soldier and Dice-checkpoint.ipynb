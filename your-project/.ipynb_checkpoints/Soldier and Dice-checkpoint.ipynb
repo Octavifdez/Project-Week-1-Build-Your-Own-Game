{
 "cells": [
  {
   "cell_type": "markdown",
   "metadata": {},
   "source": [
    "#### Function to roll dice"
   ]
  },
  {
   "cell_type": "code",
   "execution_count": 3,
   "metadata": {},
   "outputs": [],
   "source": [
    "import random\n",
    "def rolldice():\n",
    "    return random.randint(1,6)"
   ]
  },
  {
   "cell_type": "markdown",
   "metadata": {},
   "source": [
    "#### Function to creat the pool dice"
   ]
  },
  {
   "cell_type": "code",
   "execution_count": 4,
   "metadata": {},
   "outputs": [],
   "source": [
    "def dice_roll(pool):\n",
    "    pool_dice = []\n",
    "    dice = 0\n",
    "    while dice < pool:\n",
    "        pool_dice.append(rolldice())\n",
    "        dice += 1\n",
    "    return pool_dice"
   ]
  },
  {
   "cell_type": "code",
   "execution_count": 5,
   "metadata": {},
   "outputs": [],
   "source": [
    "def pooling(dice_a, dice_d) :\n",
    "    if dice_a > 3:\n",
    "        pool_a = dice_roll(3)\n",
    "    else:\n",
    "        pool_a = dice_roll(dice_a - 1)\n",
    "    pool_a.sort(reverse=True)\n",
    "    \n",
    "    if dice_d > 2:\n",
    "        pool_d = dice_roll(2)\n",
    "    else:\n",
    "        pool_d = dice_roll(defend)\n",
    "    pool_d.sort(reverse=True)\n",
    "    \n",
    "    return pool_a, pool_d"
   ]
  },
  {
   "cell_type": "markdown",
   "metadata": {},
   "source": [
    "#### Function to compare dice rolls and update the scores"
   ]
  },
  {
   "cell_type": "code",
   "execution_count": 6,
   "metadata": {},
   "outputs": [],
   "source": [
    "def compare_pool(pool_a, pool_d):\n",
    "    global attack\n",
    "    global defend\n",
    "    for i in range(min(len(pool_a), len(pool_d))):\n",
    "        if pool_a[i] > pool_d[i]:\n",
    "            defend += -1\n",
    "        else:\n",
    "            attack += -1"
   ]
  },
  {
   "cell_type": "markdown",
   "metadata": {},
   "source": [
    "#### Setup of the armies"
   ]
  },
  {
   "cell_type": "code",
   "execution_count": 11,
   "metadata": {
    "scrolled": true
   },
   "outputs": [
    {
     "name": "stdout",
     "output_type": "stream",
     "text": [
      "Attacker: how many soldiers in your land? 3\n",
      "Defender: how many soldiers in your land? 7\n"
     ]
    }
   ],
   "source": [
    "attack = int(input('Attacker: how many soldiers in your land? '))\n",
    "defend = int(input('Defender: how many soldiers in your land? '))"
   ]
  },
  {
   "cell_type": "code",
   "execution_count": 12,
   "metadata": {},
   "outputs": [
    {
     "name": "stdout",
     "output_type": "stream",
     "text": [
      "You can try again with 3 against 5. (y/n)y\n",
      "You can try again with 3 against 3. (y/n)y\n",
      "You have no more troops to attack.\n"
     ]
    }
   ],
   "source": [
    "charge = 'y'\n",
    "while charge == 'y':\n",
    "    if attack > 1 and defend > 0:\n",
    "        pool_attack, pool_defend = pooling(attack,defend)\n",
    "        compare_pool(pool_attack, pool_defend)\n",
    "    elif attack <= 1:\n",
    "        print(\"You have no more troops to attack.\")\n",
    "        charge = 'n'\n",
    "    else:\n",
    "        print(\"You have conquered the land!\")\n",
    "        charge = 'n'\n",
    "    if attack > 1 and defend > 0:\n",
    "        charge = input('You can try again with {0} against {1}. (y/n)'.format(attack, defend))"
   ]
  },
  {
   "cell_type": "code",
   "execution_count": null,
   "metadata": {},
   "outputs": [],
   "source": []
  }
 ],
 "metadata": {
  "kernelspec": {
   "display_name": "Python 3",
   "language": "python",
   "name": "python3"
  },
  "language_info": {
   "codemirror_mode": {
    "name": "ipython",
    "version": 3
   },
   "file_extension": ".py",
   "mimetype": "text/x-python",
   "name": "python",
   "nbconvert_exporter": "python",
   "pygments_lexer": "ipython3",
   "version": "3.7.4"
  }
 },
 "nbformat": 4,
 "nbformat_minor": 2
}
