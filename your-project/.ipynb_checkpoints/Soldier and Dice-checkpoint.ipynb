{
 "cells": [
  {
   "cell_type": "markdown",
   "metadata": {},
   "source": [
    "<img src=\"91s9x1RHbtL._SL1500_.jpg\">"
   ]
  },
  {
   "cell_type": "markdown",
   "metadata": {},
   "source": [
    "#### Function to roll dice"
   ]
  },
  {
   "cell_type": "code",
   "execution_count": 13,
   "metadata": {},
   "outputs": [],
   "source": [
    "import random\n",
    "def rolldice():\n",
    "    return random.randint(1,6)"
   ]
  },
  {
   "cell_type": "markdown",
   "metadata": {},
   "source": [
    "#### Functions to create both pool of dice"
   ]
  },
  {
   "cell_type": "code",
   "execution_count": 14,
   "metadata": {},
   "outputs": [],
   "source": [
    "def dice_roll(pool):\n",
    "    pool_dice = []\n",
    "    for dice in range(pool):\n",
    "        pool_dice.append(rolldice())\n",
    "    return pool_dice"
   ]
  },
  {
   "cell_type": "code",
   "execution_count": 15,
   "metadata": {},
   "outputs": [],
   "source": [
    "def pooling(dice_a, dice_d) :\n",
    "    if dice_a > 3: # Attacker can only field 3 soldiers\n",
    "        pool_a = dice_roll(3)\n",
    "    else:\n",
    "        pool_a = dice_roll(dice_a - 1) # Attacker has to leave one soldier on the land he comes from\n",
    "    pool_a.sort(reverse=True)\n",
    "    \n",
    "    if dice_d > 2: # Defender can only field 2 defenders\n",
    "        pool_d = dice_roll(2)\n",
    "    else:\n",
    "        pool_d = dice_roll(defend)\n",
    "    pool_d.sort(reverse=True)\n",
    "    \n",
    "    return pool_a, pool_d\n",
    "\n",
    "# Both pools have been sorted and reversed as we have to compare from the highest scores."
   ]
  },
  {
   "cell_type": "markdown",
   "metadata": {},
   "source": [
    "#### Function to compare dice rolls and update the scores"
   ]
  },
  {
   "cell_type": "code",
   "execution_count": 16,
   "metadata": {},
   "outputs": [],
   "source": [
    "def compare_pool(pool_a, pool_d):\n",
    "    global attack\n",
    "    global defend\n",
    "    for i in range(min(len(pool_a), len(pool_d))):\n",
    "        if pool_a[i] > pool_d[i]:\n",
    "            defend += -1 # Attacker wins\n",
    "        else:\n",
    "            attack += -1 # Defender wins"
   ]
  },
  {
   "cell_type": "markdown",
   "metadata": {},
   "source": [
    "#### Setup the armies"
   ]
  },
  {
   "cell_type": "code",
   "execution_count": 48,
   "metadata": {
    "scrolled": true
   },
   "outputs": [
    {
     "name": "stdout",
     "output_type": "stream",
     "text": [
      "How many soldiers are in the attacking land? adgrda6546\n",
      "How many soldiers are in the attacking land? 654\n",
      "How many soldiers are defending the land? asdfaerhaerhaer54\n",
      "How many soldiers are defending the land? 5\n"
     ]
    }
   ],
   "source": [
    "attack = input('How many soldiers are in the attacking land? ')\n",
    "while not attack.isdigit():\n",
    "    attack = input('How many soldiers are in the attacking land? ')\n",
    "defend = input('How many soldiers are defending the land? ')\n",
    "while not defend.isdigit():\n",
    "    defend = input('How many soldiers are defending the land? ')"
   ]
  },
  {
   "cell_type": "markdown",
   "metadata": {},
   "source": [
    "## Time to fight"
   ]
  },
  {
   "cell_type": "code",
   "execution_count": 45,
   "metadata": {},
   "outputs": [
    {
     "name": "stdout",
     "output_type": "stream",
     "text": [
      "You can try attackins again with 5 against 1 defenders. (y/n) y\n",
      "You have conquered the land!\n"
     ]
    }
   ],
   "source": [
    "charge = 'y'\n",
    "while charge == 'y':\n",
    "    if attack > 1 and defend > 0:\n",
    "        pool_attack, pool_defend = pooling(attack,defend)\n",
    "        compare_pool(pool_attack, pool_defend)\n",
    "    elif attack <= 1: # Attacker has to leave one soldier in the land he attacks from\n",
    "        print('You have no more troops to attack.')\n",
    "        charge = 'n'\n",
    "    else:\n",
    "        print('You have conquered the land!')\n",
    "        charge = 'n'\n",
    "    if attack > 1 and defend > 0:\n",
    "        charge = input('You can try attacking again with {0} against {1} defenders. (y/n) '.format(attack, defend))"
   ]
  },
  {
   "cell_type": "code",
   "execution_count": null,
   "metadata": {},
   "outputs": [],
   "source": []
  }
 ],
 "metadata": {
  "kernelspec": {
   "display_name": "Python 3",
   "language": "python",
   "name": "python3"
  },
  "language_info": {
   "codemirror_mode": {
    "name": "ipython",
    "version": 3
   },
   "file_extension": ".py",
   "mimetype": "text/x-python",
   "name": "python",
   "nbconvert_exporter": "python",
   "pygments_lexer": "ipython3",
   "version": "3.7.4"
  }
 },
 "nbformat": 4,
 "nbformat_minor": 2
}
