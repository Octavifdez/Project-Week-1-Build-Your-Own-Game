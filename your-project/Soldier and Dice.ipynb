{
 "cells": [
  {
   "cell_type": "markdown",
   "metadata": {},
   "source": [
    "<img src=\"91s9x1RHbtL._SL1500_.jpg\">"
   ]
  },
  {
   "cell_type": "markdown",
   "metadata": {},
   "source": [
    "#### Function to roll dice"
   ]
  },
  {
   "cell_type": "code",
   "execution_count": 13,
   "metadata": {},
   "outputs": [],
   "source": [
    "import random\n",
    "def rolldice():\n",
    "    return random.randint(1,6)"
   ]
  },
  {
   "cell_type": "markdown",
   "metadata": {},
   "source": [
    "#### Functions to create both pool of dice"
   ]
  },
  {
   "cell_type": "code",
   "execution_count": 14,
   "metadata": {},
   "outputs": [],
   "source": [
    "def dice_roll(pool):\n",
    "    pool_dice = []\n",
    "    for dice in range(pool):\n",
    "        pool_dice.append(rolldice())\n",
    "    return pool_dice"
   ]
  },
  {
   "cell_type": "code",
   "execution_count": 15,
   "metadata": {},
   "outputs": [],
   "source": [
    "def pooling(dice_a, dice_d) :\n",
    "    if dice_a > 3: # Attacker can only field 3 soldiers\n",
    "        pool_a = dice_roll(3)\n",
    "    else:\n",
    "        pool_a = dice_roll(dice_a - 1) # Attacker has to leave one soldier on the land he comes from\n",
    "    pool_a.sort(reverse=True)\n",
    "    \n",
    "    if dice_d > 2: # Defender can only field 2 defenders\n",
    "        pool_d = dice_roll(2)\n",
    "    else:\n",
    "        pool_d = dice_roll(defend)\n",
    "    pool_d.sort(reverse=True)\n",
    "    \n",
    "    return pool_a, pool_d"
   ]
  },
  {
   "cell_type": "markdown",
   "metadata": {},
   "source": [
    "#### Function to compare dice rolls and update the scores"
   ]
  },
  {
   "cell_type": "code",
   "execution_count": 16,
   "metadata": {},
   "outputs": [],
   "source": [
    "def compare_pool(pool_a, pool_d):\n",
    "    global attack\n",
    "    global defend\n",
    "    for i in range(min(len(pool_a), len(pool_d))):\n",
    "        if pool_a[i] > pool_d[i]:\n",
    "            defend += -1\n",
    "        else:\n",
    "            attack += -1"
   ]
  },
  {
   "cell_type": "markdown",
   "metadata": {},
   "source": [
    "#### Setup the armies"
   ]
  },
  {
   "cell_type": "code",
   "execution_count": 30,
   "metadata": {
    "scrolled": true
   },
   "outputs": [
    {
     "name": "stdout",
     "output_type": "stream",
     "text": [
      "How many soldiers are in the attacking land? 50\n",
      "How many soldiers are defending the land? 40\n"
     ]
    }
   ],
   "source": [
    "attack = int(input('How many soldiers are in the attacking land? '))\n",
    "defend = int(input('How many soldiers are defending the land? '))"
   ]
  },
  {
   "cell_type": "markdown",
   "metadata": {},
   "source": [
    "## Time to fight"
   ]
  },
  {
   "cell_type": "code",
   "execution_count": 31,
   "metadata": {},
   "outputs": [
    {
     "name": "stdout",
     "output_type": "stream",
     "text": [
      "You can try again with 50 against 38. (y/n) y\n",
      "You can try again with 50 against 36. (y/n) y\n",
      "You can try again with 50 against 34. (y/n) y\n",
      "You can try again with 50 against 32. (y/n) y\n",
      "You can try again with 49 against 31. (y/n) y\n",
      "You can try again with 48 against 30. (y/n) y\n",
      "You can try again with 48 against 28. (y/n) y\n",
      "You can try again with 46 against 28. (y/n) y\n",
      "You can try again with 46 against 26. (y/n) y\n",
      "You can try again with 44 against 26. (y/n) y\n",
      "You can try again with 42 against 26. (y/n) y\n",
      "You can try again with 42 against 24. (y/n) y\n",
      "You can try again with 42 against 22. (y/n) y\n",
      "You can try again with 42 against 20. (y/n) y\n",
      "You can try again with 41 against 19. (y/n) y\n",
      "You can try again with 41 against 17. (y/n) y\n",
      "You can try again with 40 against 16. (y/n) y\n",
      "You can try again with 39 against 15. (y/n) y\n",
      "You can try again with 39 against 13. (y/n) y\n",
      "You can try again with 38 against 12. (y/n) y\n",
      "You can try again with 38 against 10. (y/n) y\n",
      "You can try again with 38 against 8. (y/n) y\n",
      "You can try again with 38 against 6. (y/n) y\n",
      "You can try again with 37 against 5. (y/n) y\n",
      "You can try again with 35 against 5. (y/n) y\n",
      "You can try again with 35 against 3. (y/n) y\n",
      "You can try again with 33 against 3. (y/n) y\n",
      "You can try again with 31 against 3. (y/n) y\n",
      "You can try again with 30 against 2. (y/n) y\n",
      "You have conquered the land!\n"
     ]
    }
   ],
   "source": [
    "charge = 'y'\n",
    "while charge == 'y':\n",
    "    if attack > 1 and defend > 0:\n",
    "        pool_attack, pool_defend = pooling(attack,defend)\n",
    "        compare_pool(pool_attack, pool_defend)\n",
    "    elif attack <= 1:\n",
    "        print('You have no more troops to attack.')\n",
    "        charge = 'n'\n",
    "    else:\n",
    "        print('You have conquered the land!')\n",
    "        charge = 'n'\n",
    "    if attack > 1 and defend > 0:\n",
    "        charge = input('You can try again with {0} against {1}. (y/n) '.format(attack, defend))"
   ]
  },
  {
   "cell_type": "code",
   "execution_count": null,
   "metadata": {},
   "outputs": [],
   "source": []
  }
 ],
 "metadata": {
  "kernelspec": {
   "display_name": "Python 3",
   "language": "python",
   "name": "python3"
  },
  "language_info": {
   "codemirror_mode": {
    "name": "ipython",
    "version": 3
   },
   "file_extension": ".py",
   "mimetype": "text/x-python",
   "name": "python",
   "nbconvert_exporter": "python",
   "pygments_lexer": "ipython3",
   "version": "3.7.4"
  }
 },
 "nbformat": 4,
 "nbformat_minor": 2
}
